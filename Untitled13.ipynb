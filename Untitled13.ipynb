{
  "nbformat": 4,
  "nbformat_minor": 0,
  "metadata": {
    "colab": {
      "provenance": [],
      "authorship_tag": "ABX9TyPq7hqnDgiY7HdE6dbWET7D",
      "include_colab_link": true
    },
    "kernelspec": {
      "name": "python3",
      "display_name": "Python 3"
    },
    "language_info": {
      "name": "python"
    }
  },
  "cells": [
    {
      "cell_type": "markdown",
      "metadata": {
        "id": "view-in-github",
        "colab_type": "text"
      },
      "source": [
        "<a href=\"https://colab.research.google.com/github/Shuaibali0786/45-assignment/blob/main/Untitled13.ipynb\" target=\"_parent\"><img src=\"https://colab.research.google.com/assets/colab-badge.svg\" alt=\"Open In Colab\"/></a>"
      ]
    },
    {
      "cell_type": "code",
      "source": [
        "rows = 9\n",
        "for i in range(1, rows+1, 2):\n",
        "    spaces = ' ' * ((rows - i) // 2)\n",
        "    stars = '*' * i\n",
        "    print(spaces + stars + spaces)\n",
        "\n",
        "for i in range(rows-2, 0, -2):\n",
        "    spaces = ' ' * ((rows - i) // 2)\n",
        "    stars = '*' * i\n",
        "    print(spaces + stars + spaces)\n"
      ],
      "metadata": {
        "colab": {
          "base_uri": "https://localhost:8080/"
        },
        "id": "bc4NJKdV4dV5",
        "outputId": "5653a9ad-988d-4eff-943a-663440208ac6"
      },
      "execution_count": null,
      "outputs": [
        {
          "output_type": "stream",
          "name": "stdout",
          "text": [
            "    *    \n",
            "   ***   \n",
            "  *****  \n",
            " ******* \n",
            "*********\n",
            " ******* \n",
            "  *****  \n",
            "   ***   \n",
            "    *    \n"
          ]
        }
      ]
    }
  ]
}